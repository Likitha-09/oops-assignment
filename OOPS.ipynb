{
  "nbformat": 4,
  "nbformat_minor": 0,
  "metadata": {
    "colab": {
      "provenance": []
    },
    "kernelspec": {
      "name": "python3",
      "display_name": "Python 3"
    },
    "language_info": {
      "name": "python"
    }
  },
  "cells": [
    {
      "cell_type": "markdown",
      "source": [
        "1. What is Object-Oriented Programming?\n",
        "\n",
        "Object-oriented programming (OOP) is a programming model that organizes software around objects, rather than functions and logic"
      ],
      "metadata": {
        "id": "MDFCJWPoPZ_L"
      }
    },
    {
      "cell_type": "markdown",
      "source": [
        "2.What is a class in OOP?\n",
        "\n",
        "In object-oriented programming (OOP), a class is a template for creating objects. It defines the data format and behavior of objects"
      ],
      "metadata": {
        "id": "ZMmZalQgPlhm"
      }
    },
    {
      "cell_type": "markdown",
      "source": [
        "3. What is an object in OOP?\n",
        "\n",
        "In Python's Object-Oriented Programming (OOP), an object is a specific instance of a class, encapsulating data (attributes) and behavior (methods) that define its characteristics and actions.\n",
        "\n"
      ],
      "metadata": {
        "id": "e2e9nopUPvHY"
      }
    },
    {
      "cell_type": "markdown",
      "source": [
        "4.What is the difference between abstraction and encapsulation?\n",
        "\n",
        "Abstraction hides implementation details, while encapsulation controls access to data"
      ],
      "metadata": {
        "id": "6eiW2R93P_Us"
      }
    },
    {
      "cell_type": "markdown",
      "source": [
        "5.What are dunder methods in Python?\n",
        "\n",
        "In Python, dunder methods, also known as magic methods, are methods with double underscores (__) before and after their names."
      ],
      "metadata": {
        "id": "8dDnxcORQHsl"
      }
    },
    {
      "cell_type": "markdown",
      "source": [
        "6.Explain the concept of inheritance in OOP\n",
        "\n",
        "In object-oriented programming (OOP), inheritance is the process of deriving new classes from existing one"
      ],
      "metadata": {
        "id": "lg-dYOFPQRjM"
      }
    },
    {
      "cell_type": "markdown",
      "source": [
        "7. What is polymorphism in OOP?\n",
        "\n",
        "In Object-Oriented Programming (OOP), polymorphism means \"many forms\" and allows objects of different classes to be treated as objects of a common superclass, enabling them to respond to the same method call in different ways."
      ],
      "metadata": {
        "id": "pKr9RLumQZV0"
      }
    },
    {
      "cell_type": "markdown",
      "source": [
        "8. How is encapsulation achieved in Python?\n",
        "\n",
        "Encapsulation in Python is achieved by using access modifiers, conventions, and naming conventions."
      ],
      "metadata": {
        "id": "o-BPMwOCQkwA"
      }
    },
    {
      "cell_type": "markdown",
      "source": [
        "9. What is a constructor in Python?\n",
        "\n",
        "In Python, a constructor is a special method that initializes an object when it's created."
      ],
      "metadata": {
        "id": "obZAODeyQxjh"
      }
    },
    {
      "cell_type": "markdown",
      "source": [
        "10. What are class and static methods in Python?\n",
        "\n",
        "A class method can access or modify the class state while a static method can't access or modify it. In general, static methods know nothing about the class state. They are utility-type methods that take some parameters and work upon those parameters. On the other hand class methods must have class as parameter.\n",
        "\n"
      ],
      "metadata": {
        "id": "jwyqf9-WRAk9"
      }
    },
    {
      "cell_type": "markdown",
      "source": [
        "11. What is method overloading in Python?\n",
        "\n",
        "In Python, while it's commonly discussed, the concept of \"method overloading\" (defining multiple methods with the same name but different parameters) isn't directly supported like in languages such as Java or C++."
      ],
      "metadata": {
        "id": "g2hVaRtIRQgG"
      }
    },
    {
      "cell_type": "markdown",
      "source": [
        "12. What is method overriding in OOP?\n",
        "\n",
        "In object-oriented programming (OOP), method overriding is when a subclass redefines a method that's already defined in its superclass."
      ],
      "metadata": {
        "id": "SWkVNG5pRfPu"
      }
    },
    {
      "cell_type": "markdown",
      "source": [
        "13. What is a property decorator in Python?\n",
        "\n",
        "The decorator is a built-in Python decorator that allows you to turn class methods into properties in a way that's both elegant and user-friendly."
      ],
      "metadata": {
        "id": "Oa9WlBOORmm7"
      }
    },
    {
      "cell_type": "markdown",
      "source": [
        "14. Why is polymorphism important in OOP?\n",
        "\n",
        "Polymorphism is used in OOP to allow developers to write more efficient code and redefine methods for derived classes; however, it could raise real-time performance issues."
      ],
      "metadata": {
        "id": "49gb1mySRvDV"
      }
    },
    {
      "cell_type": "markdown",
      "source": [
        "15. What is an abstract class in Python?\n",
        "\n",
        "In Python, an abstract class is a class that defines methods that subclasses must implement.\n"
      ],
      "metadata": {
        "id": "CjpgT_4rR5Qq"
      }
    },
    {
      "cell_type": "markdown",
      "source": [
        "16. What are the advantages of OOP?\n",
        "\n",
        "Object-Oriented Programming (OOP) offers several advantages, such as improved code reuse, modularity, and maintainability.\n"
      ],
      "metadata": {
        "id": "-W-KmG_YSBWz"
      }
    },
    {
      "cell_type": "markdown",
      "source": [
        "17. What is the difference between a class variable and an instance variable?\n",
        "\n",
        "In object-oriented programming, class variables are shared across all instances of a class, while instance variables are unique to each instance."
      ],
      "metadata": {
        "id": "l85z7Ls5SLVA"
      }
    },
    {
      "cell_type": "markdown",
      "source": [
        "18. What is multiple inheritance in Python?\n",
        "\n",
        "In Python, multiple inheritance is when a class inherits properties from more than one parent class."
      ],
      "metadata": {
        "id": "FTRy6CJxSU3c"
      }
    },
    {
      "cell_type": "markdown",
      "source": [
        "19. Explain the purpose of ‘’__str__’ and ‘__repr__’ ‘ methods in Python?\n",
        "\n",
        "The __str__() and __repr__() methods can be helpful in debugging Python code by logging or printing useful information about an object.\n",
        "\n",
        "\n"
      ],
      "metadata": {
        "id": "ZffF3S6cSdVq"
      }
    },
    {
      "cell_type": "markdown",
      "source": [
        "20. What is the significance of the ‘super()’ function in Python?\n",
        "\n",
        "In Python, the super() function is a built-in function that allows a subclass to access and call methods of its parent or superclass, facilitating code reuse and inheritance, especially when dealing with method overriding.\n"
      ],
      "metadata": {
        "id": "lKCD0fcWSwHT"
      }
    },
    {
      "cell_type": "markdown",
      "source": [
        "21. What is the significance of the __del__ method in Python?\n",
        "\n",
        "In Python, the __del__ method, also known as the destructor method, releases resources when an object is deleted."
      ],
      "metadata": {
        "id": "N-R3ZrP7S5AA"
      }
    },
    {
      "cell_type": "markdown",
      "source": [
        "22. What is the difference between @staticmethod and @classmethod in Python?\n",
        "\n",
        "In Python, the main difference between @classmethod and @staticmethod is that @classmethod takes the class as the first argument, while @staticmethod doesn't take any automatic argument.\n"
      ],
      "metadata": {
        "id": "ifvVvchZTAAa"
      }
    },
    {
      "cell_type": "markdown",
      "source": [
        "23. How does polymorphism work in Python with inheritance?\n",
        "\n",
        "In Python, polymorphism with inheritance is achieved through method overriding, where a child class can redefine a method inherited from its parent class, allowing different classes to respond to the same method call in their own specific ways."
      ],
      "metadata": {
        "id": "bAaYwNiWTITk"
      }
    },
    {
      "cell_type": "markdown",
      "source": [
        "24. What is method chaining in Python OOP?\n",
        "\n",
        "Method chaining refers to calling multiple methods sequentially on the same object in a single expression."
      ],
      "metadata": {
        "id": "XwF8olfWTSkB"
      }
    },
    {
      "cell_type": "markdown",
      "source": [
        "25. What is the purpose of the __call__ method in Python?\n",
        "\n",
        "The __call__ method in Python allows you to make an instance of a class callable, meaning you can call it like a function."
      ],
      "metadata": {
        "id": "wy3nZwbOTcMZ"
      }
    },
    {
      "cell_type": "markdown",
      "source": [
        "#PRACTICAL QUESTIONS"
      ],
      "metadata": {
        "id": "3DhbDamtTlRR"
      }
    },
    {
      "cell_type": "code",
      "source": [
        "#Create a parent class Animal with a method speak() that prints a generic message. Create a child class Dog\n",
        "#that overrides the speak() method to print \"Bark!\"\n",
        "\n",
        "class Animal:\n",
        "    def speak(self):\n",
        "        print(\"Generic animal sound\")\n",
        "\n",
        "class Dog(Animal):\n",
        "    def speak(self):\n",
        "        print(\"Bark!\")"
      ],
      "metadata": {
        "id": "ai0J-QcETsJk"
      },
      "execution_count": 3,
      "outputs": []
    },
    {
      "cell_type": "code",
      "source": [
        "animal=Animal()\n",
        "animal.speak()"
      ],
      "metadata": {
        "colab": {
          "base_uri": "https://localhost:8080/"
        },
        "id": "_crF2dzrUxBU",
        "outputId": "bb3c1c4e-3368-469d-aea1-b15d332d8db2"
      },
      "execution_count": 4,
      "outputs": [
        {
          "output_type": "stream",
          "name": "stdout",
          "text": [
            "Generic animal sound\n"
          ]
        }
      ]
    },
    {
      "cell_type": "code",
      "source": [
        "dog = Dog()\n",
        "dog.speak()"
      ],
      "metadata": {
        "colab": {
          "base_uri": "https://localhost:8080/"
        },
        "id": "n1SgwMvnVEbp",
        "outputId": "42f4a347-331f-4765-b759-eee44364dde0"
      },
      "execution_count": 5,
      "outputs": [
        {
          "output_type": "stream",
          "name": "stdout",
          "text": [
            "Bark!\n"
          ]
        }
      ]
    },
    {
      "cell_type": "code",
      "source": [
        "#Write a program to create an abstract class Shape with a method area(). Derive classes Circle and Rectangle\n",
        "#from it and implement the area() method in both.\n",
        "\n",
        "from abc import ABC, abstractmethod\n",
        "\n",
        "class Shape(ABC):\n",
        "    @abstractmethod\n",
        "    def area(self):\n",
        "        pass\n",
        "\n",
        "class Circle(Shape):\n",
        "    def __init__(self, radius):\n",
        "        self.radius = radius\n",
        "\n",
        "    def area(self):\n",
        "        return 3.1416 * self.radius * self.radius\n",
        "\n",
        "class Rectangle(Shape):\n",
        "    def __init__(self, width, height):\n",
        "        self.width = width\n",
        "        self.height = height\n",
        "\n",
        "    def area(self):\n",
        "        return self.width * self.height\n",
        "\n",
        "\n",
        "circle = Circle(5)\n",
        "print(\"Circle area:\", circle.area())\n",
        "\n",
        "rectangle = Rectangle(4, 6)\n",
        "print(\"Rectangle area:\", rectangle.area())\n",
        "\n"
      ],
      "metadata": {
        "colab": {
          "base_uri": "https://localhost:8080/"
        },
        "id": "9mcWmQPlVGVr",
        "outputId": "84585c66-37b9-4c77-847d-654eb3c6359c"
      },
      "execution_count": 6,
      "outputs": [
        {
          "output_type": "stream",
          "name": "stdout",
          "text": [
            "Circle area: 78.54\n",
            "Rectangle area: 24\n"
          ]
        }
      ]
    },
    {
      "cell_type": "code",
      "source": [
        "#Implement a multi-level inheritance scenario where a class Vehicle has an attribute type. Derive a class Car\n",
        "#and further derive a class ElectricCar that adds a battery attribute.\n",
        "\n",
        "\n",
        "class Vehicle:\n",
        "    def __init__(self, vehicle_type):\n",
        "        self.vehicle_type = vehicle_type\n",
        "\n",
        "    def show_type(self):\n",
        "        print(f\"Vehicle Type: {self.vehicle_type}\")\n",
        "\n",
        "class Car(Vehicle):\n",
        "    def __init__(self, vehicle_type, brand):\n",
        "        super().__init__(vehicle_type)\n",
        "        self.brand = brand\n",
        "\n",
        "    def show_brand(self):\n",
        "        print(f\"Car Brand: {self.brand}\")\n",
        "\n",
        "class ElectricCar(Car):\n",
        "    def __init__(self, vehicle_type, brand, battery_capacity):\n",
        "        super().__init__(vehicle_type, brand)\n",
        "        self.battery_capacity = battery_capacity\n",
        "\n",
        "    def show_battery(self):\n",
        "        print(f\"Battery Capacity: {self.battery_capacity} kWh\")\n",
        "\n",
        "\n",
        "vehicle = Vehicle(\"General\")\n",
        "vehicle.show_type()\n",
        "\n",
        "car = Car(\"Sedan\", \"Toyota\")\n",
        "car.show_type()\n",
        "car.show_brand()\n",
        "\n",
        "electric_car = ElectricCar(\"Sedan\", \"Tesla\", 75)\n",
        "electric_car.show_type()\n",
        "electric_car.show_brand()\n",
        "electric_car.show_battery()\n"
      ],
      "metadata": {
        "colab": {
          "base_uri": "https://localhost:8080/"
        },
        "id": "1YdYdczEVt-K",
        "outputId": "79e5571a-485a-41e8-de0c-c12ecc457481"
      },
      "execution_count": 7,
      "outputs": [
        {
          "output_type": "stream",
          "name": "stdout",
          "text": [
            "Vehicle Type: General\n",
            "Vehicle Type: Sedan\n",
            "Car Brand: Toyota\n",
            "Vehicle Type: Sedan\n",
            "Car Brand: Tesla\n",
            "Battery Capacity: 75 kWh\n"
          ]
        }
      ]
    },
    {
      "cell_type": "code",
      "source": [
        "#Demonstrate polymorphism by creating a base class Bird with a method fly(). Create two derived classes\n",
        "#Sparrow and Penguin that override the fly() method.\n",
        "\n",
        "class Bird:\n",
        "    def fly(self):\n",
        "        print(\"Some birds can fly.\")\n",
        "\n",
        "class Sparrow(Bird):\n",
        "    def fly(self):\n",
        "        print(\"Sparrow flies high in the sky.\")\n",
        "\n",
        "class Penguin(Bird):\n",
        "    def fly(self):\n",
        "        print(\"Penguins cannot fly, but they swim excellently.\")\n",
        "\n",
        "def make_bird_fly(bird):\n",
        "    bird.fly()\n",
        "\n",
        "bird = Bird()\n",
        "sparrow = Sparrow()\n",
        "penguin = Penguin()\n",
        "\n",
        "make_bird_fly(bird)\n",
        "make_bird_fly(sparrow)\n",
        "make_bird_fly(penguin)\n"
      ],
      "metadata": {
        "colab": {
          "base_uri": "https://localhost:8080/"
        },
        "id": "_K-P3uX4WZP4",
        "outputId": "610f28f7-d2f0-4297-8f53-6303e92624f3"
      },
      "execution_count": 8,
      "outputs": [
        {
          "output_type": "stream",
          "name": "stdout",
          "text": [
            "Some birds can fly.\n",
            "Sparrow flies high in the sky.\n",
            "Penguins cannot fly, but they swim excellently.\n"
          ]
        }
      ]
    },
    {
      "cell_type": "code",
      "source": [
        "#Write a program to demonstrate encapsulation by creating a class BankAccount with private attributes\n",
        "#balance and methods to deposit, withdraw, and check balance.\n",
        "\n",
        "class BankAccount:\n",
        "    def __init__(self, initial_balance=0):\n",
        "        self.__balance = initial_balance  # Private attribute\n",
        "\n",
        "    def deposit(self, amount):\n",
        "        if amount > 0:\n",
        "            self.__balance += amount\n",
        "            print(f\"Deposited: ${amount}\")\n",
        "        else:\n",
        "            print(\"Deposit amount must be positive.\")\n",
        "\n",
        "    def withdraw(self, amount):\n",
        "        if 0 < amount <= self.__balance:\n",
        "            self.__balance -= amount\n",
        "            print(f\"Withdrawn: ${amount}\")\n",
        "        else:\n",
        "            print(\"Insufficient balance or invalid amount.\")\n",
        "\n",
        "    def get_balance(self):\n",
        "        return self.__balance\n",
        "\n",
        "account = BankAccount(100)\n",
        "account.deposit(50)\n",
        "account.withdraw(30)\n",
        "print(\"Current Balance:\", account.get_balance())\n"
      ],
      "metadata": {
        "colab": {
          "base_uri": "https://localhost:8080/"
        },
        "id": "LV7f-9wRWz8g",
        "outputId": "528233fc-b298-42e2-c914-d35164437e72"
      },
      "execution_count": 9,
      "outputs": [
        {
          "output_type": "stream",
          "name": "stdout",
          "text": [
            "Deposited: $50\n",
            "Withdrawn: $30\n",
            "Current Balance: 120\n"
          ]
        }
      ]
    },
    {
      "cell_type": "code",
      "source": [
        "#Demonstrate runtime polymorphism using a method play() in a base class Instrument. Derive classes Guitar\n",
        "#and Piano that implement their own version of play().\n",
        "\n",
        "class Instrument:\n",
        "    def play(self):\n",
        "        print(\"Playing an instrument.\")\n",
        "\n",
        "class Guitar(Instrument):\n",
        "    def play(self):\n",
        "        print(\"Strumming the guitar.\")\n",
        "\n",
        "class Piano(Instrument):\n",
        "    def play(self):\n",
        "        print(\"Playing the piano keys.\")\n",
        "\n",
        "# Example usage\n",
        "def start_playing(instrument):\n",
        "    instrument.play()\n",
        "\n",
        "instrument = Instrument()\n",
        "guitar = Guitar()\n",
        "piano = Piano()\n",
        "\n",
        "start_playing(instrument)\n",
        "start_playing(guitar)\n",
        "start_playing(piano)"
      ],
      "metadata": {
        "colab": {
          "base_uri": "https://localhost:8080/"
        },
        "id": "iEj7qEvcXM3m",
        "outputId": "bccc25ab-a85c-4ab4-8aef-c837154da771"
      },
      "execution_count": 11,
      "outputs": [
        {
          "output_type": "stream",
          "name": "stdout",
          "text": [
            "Playing an instrument.\n",
            "Strumming the guitar.\n",
            "Playing the piano keys.\n"
          ]
        }
      ]
    },
    {
      "cell_type": "code",
      "source": [
        "#Create a class MathOperations with a class method add_numbers() to add two numbers and a static\n",
        "#Create a class MathOperations with a class method add_numbers() to add two numbers and a static\n",
        "#method subtract_numbers() to subtract two numbers.\n",
        "\n",
        "class MathOperations:\n",
        "    @classmethod\n",
        "    def add_numbers(cls, a, b):\n",
        "        \"\"\"Class method to add two numbers.\"\"\"\n",
        "        return a + b\n",
        "\n",
        "    @staticmethod\n",
        "    def subtract_numbers(a, b):\n",
        "        \"\"\"Static method to subtract two numbers.\"\"\"\n",
        "        return a - b\n",
        "\n",
        "# Example usage:\n",
        "print(MathOperations.add_numbers(5, 3))\n",
        "print(MathOperations.subtract_numbers(10, 4))\n",
        "\n"
      ],
      "metadata": {
        "colab": {
          "base_uri": "https://localhost:8080/"
        },
        "id": "b5ixvj3MXm5a",
        "outputId": "a5119149-fd4f-4f55-ddb1-9bfc08027f6d"
      },
      "execution_count": 19,
      "outputs": [
        {
          "output_type": "stream",
          "name": "stdout",
          "text": [
            "8\n",
            "6\n"
          ]
        }
      ]
    },
    {
      "cell_type": "code",
      "source": [
        "#Implement a class Person with a class method to count the total number of persons created.\n",
        "\n",
        "class Person:\n",
        "    count = 0\n",
        "\n",
        "    def __init__(self, name):\n",
        "        self.name = name\n",
        "        Person.count += 1\n",
        "\n",
        "    @classmethod\n",
        "    def total_persons(cls):\n",
        "        return cls.count\n",
        "\n",
        "person1 = Person(\"Alice\")\n",
        "person2 = Person(\"Bob\")\n",
        "person3 = Person(\"Charlie\")\n",
        "\n",
        "print(\"Total persons created:\", Person.total_persons())"
      ],
      "metadata": {
        "colab": {
          "base_uri": "https://localhost:8080/"
        },
        "id": "7PSQU8t_Y0Yi",
        "outputId": "70630cec-6eaa-4d7d-fa70-194f15007045"
      },
      "execution_count": 18,
      "outputs": [
        {
          "output_type": "stream",
          "name": "stdout",
          "text": [
            "Total persons created: 3\n"
          ]
        }
      ]
    },
    {
      "cell_type": "code",
      "source": [
        "# Write a class Fraction with attributes numerator and denominator. Override the str method to display the\n",
        "#fraction as \"numerator/denominator\"\n",
        "\n",
        "\n",
        "class Fraction:\n",
        "    def __init__(self, numerator, denominator):\n",
        "        if denominator == 0:\n",
        "            raise ValueError(\"Denominator cannot be zero\")\n",
        "        self.numerator = numerator\n",
        "        self.denominator = denominator\n",
        "\n",
        "    def __str__(self):\n",
        "        return f\"{self.numerator}/{self.denominator}\"\n",
        "\n",
        "\n",
        "f = Fraction(3, 4)\n",
        "print(f)\n"
      ],
      "metadata": {
        "colab": {
          "base_uri": "https://localhost:8080/"
        },
        "id": "PbLI_O3UZITK",
        "outputId": "ba77692a-f1eb-494f-a830-1c4e8950f44d"
      },
      "execution_count": 28,
      "outputs": [
        {
          "output_type": "stream",
          "name": "stdout",
          "text": [
            "3/4\n"
          ]
        }
      ]
    },
    {
      "cell_type": "code",
      "source": [
        "# Demonstrate operator overloading by creating a class Vector and overriding the add method to add two\n",
        "#vectors.\n",
        "\n",
        "class Vector:\n",
        "    def __init__(self, x, y):\n",
        "        self.x = x\n",
        "        self.y = y\n",
        "\n",
        "    def __add__(self, other):\n",
        "        if isinstance(other, Vector):\n",
        "            return Vector(self.x + other.x, self.y + other.y)\n",
        "        raise TypeError(\"Operand must be an instance of Vector\")\n",
        "\n",
        "    def __str__(self):\n",
        "        return f\"Vector({self.x}, {self.y})\"\n",
        "\n",
        "v1 = Vector(2, 3)\n",
        "v2 = Vector(4, 5)\n",
        "\n",
        "v3 = v1 + v2\n",
        "print(v3)\n"
      ],
      "metadata": {
        "colab": {
          "base_uri": "https://localhost:8080/"
        },
        "id": "5CtBucEHaP3Q",
        "outputId": "98b0bc78-5b38-4bdc-9ca3-b0da1f12dc2b"
      },
      "execution_count": 29,
      "outputs": [
        {
          "output_type": "stream",
          "name": "stdout",
          "text": [
            "Vector(6, 8)\n"
          ]
        }
      ]
    },
    {
      "cell_type": "code",
      "source": [
        "#Create a class Person with attributes name and age. Add a method greet() that prints \"Hello, my name is\n",
        "#{name} and I am {age} years old.\n",
        "\n",
        "class Person:\n",
        "    def __init__(self, name, age):\n",
        "        self.name = name\n",
        "        self.age = age\n",
        "\n",
        "    def greet(self):\n",
        "        print(f\"Hello, my name is {self.name} and I am {self.age} years old.\")\n",
        "\n",
        "p1 = Person(\"Alice\", 30)\n",
        "p1.greet()\n",
        "\n"
      ],
      "metadata": {
        "colab": {
          "base_uri": "https://localhost:8080/"
        },
        "id": "5X97bgHJa5si",
        "outputId": "52b93721-8032-4436-c015-46dd90c7c756"
      },
      "execution_count": 23,
      "outputs": [
        {
          "output_type": "stream",
          "name": "stdout",
          "text": [
            "Hello, my name is Alice and I am 30 years old.\n"
          ]
        }
      ]
    },
    {
      "cell_type": "code",
      "source": [
        "# Implement a class Student with attributes name and grades. Create a method average_grade() to compute\n",
        "#the average of the grades.\n",
        "\n",
        "class Student:\n",
        "    def __init__(self, name, grades):\n",
        "        self.name = name\n",
        "        self.grades = grades  # Expecting a list of grades\n",
        "\n",
        "    def average_grade(self):\n",
        "        if not self.grades:\n",
        "            return 0  # Return 0 if no grades are available\n",
        "        return sum(self.grades) / len(self.grades)\n",
        "\n",
        "student1 = Student(\"Alice\", [85, 90, 78, 92])\n",
        "print(f\"{student1.name}'s average grade: {student1.average_grade():.2f}\")\n"
      ],
      "metadata": {
        "colab": {
          "base_uri": "https://localhost:8080/"
        },
        "id": "wluo-xoGbltE",
        "outputId": "f9921b61-5739-4ebc-a407-76bc1f4b0d99"
      },
      "execution_count": 30,
      "outputs": [
        {
          "output_type": "stream",
          "name": "stdout",
          "text": [
            "Alice's average grade: 86.25\n"
          ]
        }
      ]
    },
    {
      "cell_type": "code",
      "source": [
        "#Create a class Rectangle with methods set_dimensions() to set the dimensions and area() to calculate the\n",
        "#area.\n",
        "\n",
        "class Rectangle:\n",
        "    def __init__(self):\n",
        "        self.length = 0\n",
        "        self.width = 0\n",
        "\n",
        "    def set_dimensions(self, length, width):\n",
        "        \"\"\"Set the dimensions of the rectangle.\"\"\"\n",
        "        self.length = length\n",
        "        self.width = width\n",
        "\n",
        "    def area(self):\n",
        "        \"\"\"Calculate and return the area of the rectangle.\"\"\"\n",
        "        return self.length * self.width\n",
        "\n",
        "rect = Rectangle()\n",
        "rect.set_dimensions(5, 10)\n",
        "print(\"Area:\", rect.area())\n"
      ],
      "metadata": {
        "colab": {
          "base_uri": "https://localhost:8080/"
        },
        "id": "nxd73U64brME",
        "outputId": "0f00453e-fbef-4d4d-ad4e-5a515dd1be4c"
      },
      "execution_count": 26,
      "outputs": [
        {
          "output_type": "stream",
          "name": "stdout",
          "text": [
            "Area: 50\n"
          ]
        }
      ]
    },
    {
      "cell_type": "code",
      "source": [
        "#Create a class Employee with a method calculate_salary() that computes the salary based on hours worked\n",
        "#and hourly rate. Create a derived class Manager that adds a bonus to the salary.\n",
        "\n",
        "class Employee:\n",
        "    def __init__(self, name, hours_worked, hourly_rate):\n",
        "        self.name = name\n",
        "        self.hours_worked = hours_worked\n",
        "        self.hourly_rate = hourly_rate\n",
        "\n",
        "    def calculate_salary(self):\n",
        "        return self.hours_worked * self.hourly_rate\n",
        "\n",
        "class Manager(Employee):\n",
        "    def __init__(self, name, hours_worked, hourly_rate, bonus):\n",
        "        super().__init__(name, hours_worked, hourly_rate)\n",
        "        self.bonus = bonus\n",
        "\n",
        "    def calculate_salary(self):\n",
        "        return super().calculate_salary() + self.bonus\n",
        "\n",
        "emp = Employee(\"John Doe\", 40, 20)\n",
        "mgr = Manager(\"Jane Smith\", 40, 30, 500)\n",
        "\n",
        "print(f\"{emp.name}'s Salary: ${emp.calculate_salary()}\")\n",
        "print(f\"{mgr.name}'s Salary: ${mgr.calculate_salary()}\")\n"
      ],
      "metadata": {
        "colab": {
          "base_uri": "https://localhost:8080/"
        },
        "id": "8d-qFg98byZ_",
        "outputId": "428e8986-371f-4117-f3ff-db44a61ee24d"
      },
      "execution_count": 33,
      "outputs": [
        {
          "output_type": "stream",
          "name": "stdout",
          "text": [
            "John Doe's Salary: $800\n",
            "Jane Smith's Salary: $1700\n"
          ]
        }
      ]
    },
    {
      "cell_type": "code",
      "source": [
        "#Create a class Product with attributes name, price, and quantity. Implement a method total_price() that\n",
        "#calculates the total price of the product.\n",
        "\n",
        "class Product:\n",
        "    def __init__(self, name, price, quantity):\n",
        "        self.name = name\n",
        "        self.price = price\n",
        "        self.quantity = quantity\n",
        "\n",
        "    def total_price(self):\n",
        "        return self.price * self.quantity\n",
        "\n",
        "\n",
        "product = Product(\"Laptop\", 1000, 2)\n",
        "print(f\"Total price of {product.name}: ${product.total_price()}\")\n",
        "\n",
        "\n",
        "\n"
      ],
      "metadata": {
        "colab": {
          "base_uri": "https://localhost:8080/"
        },
        "id": "SrXoRk0beJ9j",
        "outputId": "6fa86f4a-e23d-4175-e1dc-cc820f9494f2"
      },
      "execution_count": 34,
      "outputs": [
        {
          "output_type": "stream",
          "name": "stdout",
          "text": [
            "Total price of Laptop: $2000\n"
          ]
        }
      ]
    },
    {
      "cell_type": "code",
      "source": [
        "# Create a class Animal with an abstract method sound(). Create two derived classes Cow and Sheep that\n",
        "#implement the sound() method.\n",
        "\n",
        "from abc import ABC, abstractmethod\n",
        "\n",
        "class Animal(ABC):\n",
        "    @abstractmethod\n",
        "    def sound(self):\n",
        "        pass\n",
        "\n",
        "class Cow(Animal):\n",
        "    def sound(self):\n",
        "        return \"Moo\"\n",
        "\n",
        "class Sheep(Animal):\n",
        "    def sound(self):\n",
        "        return \"Baa\"\n",
        "\n",
        "\n",
        "cow = Cow()\n",
        "sheep = Sheep()\n",
        "print(cow.sound())\n",
        "print(sheep.sound())\n",
        "\n",
        "\n"
      ],
      "metadata": {
        "colab": {
          "base_uri": "https://localhost:8080/"
        },
        "id": "yur8MKaxeP3V",
        "outputId": "a024c09b-2e95-4ed5-d79c-8359f397af65"
      },
      "execution_count": 35,
      "outputs": [
        {
          "output_type": "stream",
          "name": "stdout",
          "text": [
            "Moo\n",
            "Baa\n"
          ]
        }
      ]
    },
    {
      "cell_type": "code",
      "source": [
        "#Create a class Book with attributes title, author, and year_published. Add a method get_book_info() that\n",
        "#returns a formatted string with the book's details.\n",
        "\n",
        "class Book:\n",
        "    def __init__(self, title, author, year_published):\n",
        "        self.title = title\n",
        "        self.author = author\n",
        "        self.year_published = year_published\n",
        "\n",
        "    def get_book_info(self):\n",
        "        return f\"'{self.title}' by {self.author}, published in {self.year_published}.\"\n",
        "\n",
        "\n",
        "book = Book(\"1984\", \"George Orwell\", 1949)\n",
        "print(book.get_book_info())\n",
        "\n",
        "\n",
        "\n"
      ],
      "metadata": {
        "colab": {
          "base_uri": "https://localhost:8080/"
        },
        "id": "WHfJDXVeeVcE",
        "outputId": "ef7084a6-14fb-4512-ec49-32e7d2eb48f3"
      },
      "execution_count": 36,
      "outputs": [
        {
          "output_type": "stream",
          "name": "stdout",
          "text": [
            "'1984' by George Orwell, published in 1949.\n"
          ]
        }
      ]
    },
    {
      "cell_type": "code",
      "source": [
        "#Create a class House with attributes address and price. Create a derived class Mansion that adds an\n",
        "#attribute number_of_rooms\n",
        "\n",
        "class House:\n",
        "    def __init__(self, address, price):\n",
        "        self.address = address\n",
        "        self.price = price\n",
        "\n",
        "    def display_info(self):\n",
        "        return f\"Address: {self.address}, Price: ${self.price}\"\n",
        "\n",
        "class Mansion(House):\n",
        "    def __init__(self, address, price, number_of_rooms):\n",
        "        super().__init__(address, price)\n",
        "        self.number_of_rooms = number_of_rooms\n",
        "\n",
        "    def display_info(self):\n",
        "        return f\"Address: {self.address}, Price: ${self.price}, Rooms: {self.number_of_rooms}\"\n",
        "\n",
        "house = House(\"123 Main St\", 250000)\n",
        "mansion = Mansion(\"456 Luxury Ave\", 5000000, 10)\n",
        "\n",
        "print(house.display_info())\n",
        "print(mansion.display_info())\n"
      ],
      "metadata": {
        "colab": {
          "base_uri": "https://localhost:8080/"
        },
        "id": "UFGv9Kpgeaf2",
        "outputId": "ce37840c-28f4-49c7-a3ff-1d7922e1e192"
      },
      "execution_count": 37,
      "outputs": [
        {
          "output_type": "stream",
          "name": "stdout",
          "text": [
            "Address: 123 Main St, Price: $250000\n",
            "Address: 456 Luxury Ave, Price: $5000000, Rooms: 10\n"
          ]
        }
      ]
    }
  ]
}